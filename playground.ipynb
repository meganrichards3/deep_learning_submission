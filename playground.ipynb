{
 "cells": [
  {
   "cell_type": "markdown",
   "metadata": {},
   "source": [
    "Explore How to Sample"
   ]
  },
  {
   "cell_type": "code",
   "execution_count": 3,
   "metadata": {},
   "outputs": [],
   "source": [
    "#!huggingface-cli login"
   ]
  },
  {
   "cell_type": "markdown",
   "metadata": {},
   "source": [
    "For 2 models, generate KLL difference"
   ]
  },
  {
   "cell_type": "code",
   "execution_count": 54,
   "metadata": {},
   "outputs": [],
   "source": [
    "import torch\n",
    "from transformers import pipeline\n",
    "\n",
    "model_id1 = \"meta-llama/Llama-3.2-1B\"\n",
    "model_id2 = \"gpt2\" #takes forever\n",
    "\n",
    "# pipe1 = pipeline( \n",
    "#     model=model_id1, \n",
    "#     torch_dtype=torch.bfloat16, \n",
    "# )\n",
    "# pipe2 = pipeline(\n",
    "#     model=model_id2, \n",
    "#     torch_dtype=torch.bfloat16)\n",
    "\n",
    "# output = pipe1(\"The key to life is\")\n",
    "# output"
   ]
  },
  {
   "cell_type": "code",
   "execution_count": 55,
   "metadata": {},
   "outputs": [
    {
     "name": "stderr",
     "output_type": "stream",
     "text": [
      "Some parameters are on the meta device because they were offloaded to the disk.\n"
     ]
    }
   ],
   "source": [
    "from transformers import AutoModelForCausalLM, AutoTokenizer\n",
    "model1 = AutoModelForCausalLM.from_pretrained(model_id1, device_map=\"auto\")\n",
    "tokenizer1 = AutoTokenizer.from_pretrained(model_id1)\n",
    "model2 = AutoModelForCausalLM.from_pretrained(model_id2, device_map=\"auto\")\n",
    "tokenizer2 = AutoTokenizer.from_pretrained(model_id2)"
   ]
  },
  {
   "cell_type": "code",
   "execution_count": 56,
   "metadata": {},
   "outputs": [
    {
     "name": "stderr",
     "output_type": "stream",
     "text": [
      "Setting `pad_token_id` to `eos_token_id`:None for open-end generation.\n",
      "Setting `pad_token_id` to `eos_token_id`:None for open-end generation.\n"
     ]
    }
   ],
   "source": [
    "inputs1 = tokenizer1(\"The key to life is\", return_tensors='pt').to(\"mps\")\n",
    "inputs2 = tokenizer2(\"The key to life is\", return_tensors='pt').to(\"mps\")\n",
    "output1 = model1.generate(**inputs1, max_new_tokens=4, output_scores = True, output_logits = True, return_dict_in_generate=True)\n",
    "output2 = model2.generate(**inputs2, max_new_tokens=4, output_scores = True, output_logits = True, return_dict_in_generate=True)"
   ]
  },
  {
   "cell_type": "code",
   "execution_count": null,
   "metadata": {},
   "outputs": [
    {
     "name": "stdout",
     "output_type": "stream",
     "text": [
      "|   539 |  not     | -2.0936 | 12.32%\n",
      "|   311 |  to      | -0.0730 | 92.96%\n",
      "|  6056 |  seek    | -3.9746 | 1.88%\n",
      "|   369 |  for     | -2.2337 | 10.71%\n"
     ]
    }
   ],
   "source": [
    "#Ref: https://huggingface.co/docs/transformers/main/en/main_classes/text_generation#transformers.GenerationMixin.compute_transition_scores \n",
    "import numpy as np \n",
    "input_length = 1 if model1.config.is_encoder_decoder else inputs.input_ids.shape[1]\n",
    "generated_tokens1 = output1.sequences[:,input_length:]\n",
    "transition_scores1 = model1.compute_transition_scores(output1.sequences, output1.scores, normalize_logits=True)\n",
    "\n",
    "for tok, score in zip(generated_tokens1[0], transition_scores1[0]):\n",
    "        # | token | token string | logits | probability\n",
    "        print(f\"| {tok:5d} | {tokenizer1.decode(tok):8s} | {score.numpy(force=True):.4f} | {np.exp(score.numpy(force=True)):.2%}\")"
   ]
  },
  {
   "cell_type": "code",
   "execution_count": 52,
   "metadata": {},
   "outputs": [
    {
     "ename": "RuntimeError",
     "evalue": "shape '[-1, 50257, 4]' is invalid for input of size 513024",
     "output_type": "error",
     "traceback": [
      "\u001b[0;31m---------------------------------------------------------------------------\u001b[0m",
      "\u001b[0;31mRuntimeError\u001b[0m                              Traceback (most recent call last)",
      "Cell \u001b[0;32mIn[52], line 1\u001b[0m\n\u001b[0;32m----> 1\u001b[0m transition_scores12 \u001b[38;5;241m=\u001b[39m \u001b[43mmodel2\u001b[49m\u001b[38;5;241;43m.\u001b[39;49m\u001b[43mcompute_transition_scores\u001b[49m\u001b[43m(\u001b[49m\u001b[43moutput1\u001b[49m\u001b[38;5;241;43m.\u001b[39;49m\u001b[43msequences\u001b[49m\u001b[43m,\u001b[49m\u001b[43m \u001b[49m\u001b[43moutput1\u001b[49m\u001b[38;5;241;43m.\u001b[39;49m\u001b[43mscores\u001b[49m\u001b[43m,\u001b[49m\u001b[43m \u001b[49m\u001b[43mnormalize_logits\u001b[49m\u001b[38;5;241;43m=\u001b[39;49m\u001b[38;5;28;43;01mTrue\u001b[39;49;00m\u001b[43m)\u001b[49m\n",
      "File \u001b[0;32m/opt/miniconda3/envs/llama/lib/python3.12/site-packages/transformers/generation/utils.py:1226\u001b[0m, in \u001b[0;36mGenerationMixin.compute_transition_scores\u001b[0;34m(self, sequences, scores, beam_indices, normalize_logits)\u001b[0m\n\u001b[1;32m   1224\u001b[0m \u001b[38;5;66;03m# 3. Optionally normalize the logits (across the vocab dimension)\u001b[39;00m\n\u001b[1;32m   1225\u001b[0m \u001b[38;5;28;01mif\u001b[39;00m normalize_logits:\n\u001b[0;32m-> 1226\u001b[0m     scores \u001b[38;5;241m=\u001b[39m \u001b[43mscores\u001b[49m\u001b[38;5;241;43m.\u001b[39;49m\u001b[43mreshape\u001b[49m\u001b[43m(\u001b[49m\u001b[38;5;241;43m-\u001b[39;49m\u001b[38;5;241;43m1\u001b[39;49m\u001b[43m,\u001b[49m\u001b[43m \u001b[49m\u001b[38;5;28;43mself\u001b[39;49m\u001b[38;5;241;43m.\u001b[39;49m\u001b[43mconfig\u001b[49m\u001b[38;5;241;43m.\u001b[39;49m\u001b[43mvocab_size\u001b[49m\u001b[43m,\u001b[49m\u001b[43m \u001b[49m\u001b[43mscores\u001b[49m\u001b[38;5;241;43m.\u001b[39;49m\u001b[43mshape\u001b[49m\u001b[43m[\u001b[49m\u001b[38;5;241;43m-\u001b[39;49m\u001b[38;5;241;43m1\u001b[39;49m\u001b[43m]\u001b[49m\u001b[43m)\u001b[49m\n\u001b[1;32m   1227\u001b[0m     scores \u001b[38;5;241m=\u001b[39m torch\u001b[38;5;241m.\u001b[39mnn\u001b[38;5;241m.\u001b[39mfunctional\u001b[38;5;241m.\u001b[39mlog_softmax(scores, dim\u001b[38;5;241m=\u001b[39m\u001b[38;5;241m1\u001b[39m)\n\u001b[1;32m   1228\u001b[0m     scores \u001b[38;5;241m=\u001b[39m scores\u001b[38;5;241m.\u001b[39mreshape(\u001b[38;5;241m-\u001b[39m\u001b[38;5;241m1\u001b[39m, scores\u001b[38;5;241m.\u001b[39mshape[\u001b[38;5;241m-\u001b[39m\u001b[38;5;241m1\u001b[39m])\n",
      "\u001b[0;31mRuntimeError\u001b[0m: shape '[-1, 50257, 4]' is invalid for input of size 513024"
     ]
    }
   ],
   "source": [
    "transition_scores12 = model2.compute_transition_scores(output1.sequences, output1.scores, normalize_logits=True)\n"
   ]
  },
  {
   "cell_type": "code",
   "execution_count": null,
   "metadata": {},
   "outputs": [],
   "source": [
    "from pprint import pprint\n",
    "import torch\n",
    "from transformers import AutoTokenizer, AutoModelForCausalLM\n",
    "\n",
    "\n",
    "def to_tokens_and_logprobs(model, tokenizer, input_texts):\n",
    "    input_ids = tokenizer(input_texts, padding=True, return_tensors=\"pt\").input_ids\n",
    "    outputs = model(input_ids)\n",
    "    probs = torch.log_softmax(outputs.logits, dim=-1).detach()\n",
    "\n",
    "    # collect the probability of the generated token -- probability at index 0 corresponds to the token at index 1\n",
    "    probs = probs[:, :-1, :]\n",
    "    input_ids = input_ids[:, 1:]\n",
    "    gen_probs = torch.gather(probs, 2, input_ids[:, :, None]).squeeze(-1)\n",
    "\n",
    "    batch = []\n",
    "    for input_sentence, input_probs in zip(input_ids, gen_probs):\n",
    "        text_sequence = []\n",
    "        for token, p in zip(input_sentence, input_probs):\n",
    "            if token not in tokenizer.all_special_ids:\n",
    "                text_sequence.append((tokenizer.decode(token), p.item()))\n",
    "        batch.append(text_sequence)\n",
    "    return batch\n",
    "\n",
    "\n",
    "tokenizer = AutoTokenizer.from_pretrained(\"gpt2\", padding_side=\"left\")\n",
    "tokenizer.pad_token = tokenizer.eos_token\n",
    "\n",
    "model = AutoModelForCausalLM.from_pretrained(\"gpt2\")\n",
    "model.config.pad_token_id = model.config.eos_token_id\n",
    "\n",
    "input_texts = [\"One plus one is two\", \"Good morning\", \"Hello, how are you?\"]\n",
    "\n",
    "batch = to_tokens_and_logprobs(model, tokenizer, input_texts)\n",
    "pprint(batch)"
   ]
  },
  {
   "cell_type": "markdown",
   "metadata": {},
   "source": [
    "#### VAE Sampling"
   ]
  },
  {
   "cell_type": "code",
   "execution_count": null,
   "metadata": {},
   "outputs": [
    {
     "data": {
      "text/plain": [
       "tensor(38.8637)"
      ]
     },
     "execution_count": 14,
     "metadata": {},
     "output_type": "execute_result"
    }
   ],
   "source": [
    "from model import VAE\n",
    "import torch\n",
    "\n",
    "m1_path = \"e0.pt\"\n",
    "m2_path = \"e3.pt\"\n",
    "bsize = 8\n",
    "n_kl_samples = 1\n",
    "n_ll_samples = 1\n",
    "\n",
    "device = torch.device(\"cuda\" if torch.cuda.is_available() else \"cpu\")\n",
    "\n",
    "m1 = torch.load(m1_path, weights_only=False, map_location=device)\n",
    "m1.to(device).eval()\n",
    "m2 = torch.load(m2_path, weights_only=False, map_location=device)\n",
    "m2.to(device).eval()\n",
    "\n",
    "m1_samples, m1_m1_ll = m1.sample(bsize, device)\n",
    "m2_samples, m2_m2_ll = m2.sample(bsize, device)\n",
    "\n",
    "m1_m2_ll = m1.log_likelihood(m2_samples, n_samples=n_ll_samples)\n",
    "m2_m1_ll = m2.log_likelihood(m1_samples, n_samples=n_ll_samples)\n",
    "kl_diff = -(m1_m1_ll + m1_m2_ll) + (m2_m1_ll + m2_m2_ll)\n"
   ]
  },
  {
   "cell_type": "code",
   "execution_count": 61,
   "metadata": {},
   "outputs": [
    {
     "name": "stderr",
     "output_type": "stream",
     "text": [
      "Some weights of ViTModel were not initialized from the model checkpoint at google/vit-base-patch16-224 and are newly initialized: ['vit.pooler.dense.bias', 'vit.pooler.dense.weight']\n",
      "You should probably TRAIN this model on a down-stream task to be able to use it for predictions and inference.\n",
      "100%|██████████| 10/10 [1:35:29<00:00, 573.00s/it]  \n"
     ]
    }
   ],
   "source": [
    "from tqdm import tqdm\n",
    "from torchvision.utils import save_image\n",
    "from pathlib import Path\n",
    "import numpy as np\n",
    "import seaborn as sns\n",
    "import matplotlib.pyplot as plt\n",
    "from transformers import AutoFeatureExtractor, AutoModel, ViTImageProcessor\n",
    "\n",
    "import torch\n",
    "from model import VAE\n",
    "import os\n",
    "\n",
    "\n",
    "def get_embeddings(model, extractor, imgs, device):\n",
    "    inputs = extractor(\n",
    "        images=[x.detach().cpu().numpy() for x in imgs], return_tensors=\"pt\"\n",
    "    ).to(device)\n",
    "    embeds = model(**inputs).last_hidden_state[:, 0].cpu()\n",
    "    return embeds\n",
    "\n",
    "def gen_kl_diff(\n",
    "    m1_path: str=None,\n",
    "    m2_path: str=None,\n",
    "    bsize: int=100,\n",
    "    n_kl_samples: int=1000,\n",
    "    n_ll_samples: int=100,\n",
    "    embed: bool=True,\n",
    "    embed_model_name: str=\"google/vit-base-patch16-224\",\n",
    "):\n",
    "    with torch.no_grad():\n",
    "        if embed:\n",
    "            extractor = ViTImageProcessor.from_pretrained(embed_model_name, do_rescale=False)\n",
    "            embed_model = AutoModel.from_pretrained(embed_model_name, output_hidden_states=True)\n",
    "            \n",
    "        device = torch.device(\"cuda\" if torch.cuda.is_available() else \"cpu\")\n",
    "        m1 = torch.load(m1_path, weights_only=False, map_location=torch.device('cpu'))\n",
    "        m1.to(device).eval()\n",
    "\n",
    "        m2 = torch.load(\n",
    "            os.path.join(m2_path),\n",
    "            weights_only=False, \n",
    "            map_location=torch.device('cpu')\n",
    "        )\n",
    "        m2.to(device).eval()\n",
    "\n",
    "        # File Structure\n",
    "        m1_name = os.path.basename(m1_path)[:-6]\n",
    "        m2_name = os.path.basename(m2_path)[:-6]\n",
    "\n",
    "        save_dir = 'kl_diffs/' + m1_name + '_vs_' + m2_name\n",
    "        Path(save_dir).mkdir(parents=True, exist_ok=True)\n",
    "\n",
    "        \n",
    "        kl_diffs = []\n",
    "        m1_full_samples = []\n",
    "        m2_full_samples = []\n",
    "\n",
    "        nbatches = n_kl_samples // bsize\n",
    "\n",
    "        for i in tqdm(range(nbatches), total=nbatches):\n",
    "\n",
    "            m1_samples, m1_m1_ll = m1.sample(bsize, device)\n",
    "            m2_samples, m2_m2_ll = m2.sample(bsize, device)\n",
    "\n",
    "            m1_m2_ll = m1.log_likelihood(m2_samples, n_samples=n_ll_samples)\n",
    "            m2_m1_ll = m2.log_likelihood(m1_samples, n_samples=n_ll_samples)\n",
    "\n",
    "            kl_diffs.append(-(m1_m1_ll + m1_m2_ll) + (m2_m1_ll + m2_m2_ll))\n",
    "\n",
    "            if embed:\n",
    "                m1_full_samples.append(get_embeddings(embed_model, extractor, m1_samples, device))\n",
    "                m2_full_samples.append(get_embeddings(embed_model, extractor, m2_samples, device))\n",
    "            else:\n",
    "                m1_full_samples.append(m1_samples)\n",
    "                m2_full_samples.append(m2_samples)\n",
    "\n",
    "        kl_diffs = torch.concatenate(kl_diffs)\n",
    "        m1_samples = torch.concatenate(m1_full_samples)\n",
    "        m2_samples = torch.concatenate(m2_full_samples)\n",
    "        samples = torch.concatenate((m1_samples, m2_samples), axis=-1)\n",
    "        torch.save(kl_diffs, save_dir + '/diff.pt')\n",
    "        torch.save(samples, save_dir + '/img.pt')\n",
    "\n",
    "gen_kl_diff(m1_path=\"trained_vaes/ld4_e9.pt\", m2_path=\"trained_vaes/ld2_e9.pt\", embed=True, embed_model_name=\"google/vit-base-patch16-224\")"
   ]
  },
  {
   "cell_type": "code",
   "execution_count": null,
   "metadata": {},
   "outputs": [
    {
     "data": {
      "text/plain": [
       "<Axes: ylabel='Density'>"
      ]
     },
     "execution_count": 58,
     "metadata": {},
     "output_type": "execute_result"
    },
    {
     "data": {
      "image/png": "[encoded data removed]",
      "text/plain": [
       "<Figure size 640x480 with 1 Axes>"
      ]
     },
     "metadata": {},
     "output_type": "display_data"
    }
   ],
   "source": [
    "# a = torch.load(os.path.join(\"kl_diffs/ld2_vs_ld4/diff.pt\"), weights_only=True)\n",
    "# sns.kdeplot(a)"
   ]
  },
  {
   "cell_type": "code",
   "execution_count": 46,
   "metadata": {},
   "outputs": [
    {
     "data": {
      "text/plain": [
       "('ld2', 'ld4', 'kl_diffs/ld2_vs_ld4', 'kl_diffs/ld2_vs_ld4/ld2_vs_')"
      ]
     },
     "execution_count": 46,
     "metadata": {},
     "output_type": "execute_result"
    }
   ],
   "source": [
    "m1_path = \"trained_vaes/ld2_e9.pt\"\n",
    "m2_path = \"trained_vaes/ld4_e9.pt\"\n",
    "\n",
    "m1_name = os.path.basename(m1_path)[:-6]\n",
    "m2_name = os.path.basename(m2_path)[:-6]\n",
    "\n",
    "save_dir = 'kl_diffs/' + m1_name + '_vs_' + m2_name\n",
    "save_path = os.path.join(save_dir, m1_name + '_vs_' + m2_name)[:-3]\n",
    "        \n",
    "# Path(save_dir).mkdir(parents=True, exist_ok=True)\n",
    "m1_name, m2_name, save_dir, save_path"
   ]
  },
  {
   "cell_type": "code",
   "execution_count": null,
   "metadata": {},
   "outputs": [
    {
     "name": "stderr",
     "output_type": "stream",
     "text": [
      "  0%|          | 0/1 [00:00<?, ?it/s]"
     ]
    },
    {
     "name": "stdout",
     "output_type": "stream",
     "text": [
      "torch.Size([10, 1536]) torch.Size([10])\n",
      "tensor([ 0.2753,  0.3379,  0.0918, -0.0100,  0.4732,  0.0571,  0.0634,  0.4629,\n",
      "         0.1098,  0.0793])\n"
     ]
    },
    {
     "name": "stderr",
     "output_type": "stream",
     "text": [
      "\n"
     ]
    }
   ],
   "source": [
    "from meta_model import MetaDataset\n",
    "from torch.utils.data import DataLoader\n",
    "from tqdm import tqdm\n",
    "\n",
    "trainset = MetaDataset(data_dir=\"kl_diffs/ld2_vs_ld4\")\n",
    "trainloader = DataLoader(trainset, batch_size=10, shuffle=False)\n",
    "for i, (imgs, labels) in tqdm(enumerate(trainloader), total=len(trainloader)):\n",
    "    print(imgs.shape, labels.shape)\n",
    "    print(labels)\n",
    "    break"
   ]
  },
  {
   "cell_type": "code",
   "execution_count": 38,
   "metadata": {},
   "outputs": [
    {
     "data": {
      "text/plain": [
       "10"
      ]
     },
     "execution_count": 38,
     "metadata": {},
     "output_type": "execute_result"
    }
   ],
   "source": [
    "len(trainset)"
   ]
  },
  {
   "cell_type": "code",
   "execution_count": 1,
   "metadata": {},
   "outputs": [
    {
     "ename": "NameError",
     "evalue": "name 'Dataset' is not defined",
     "output_type": "error",
     "traceback": [
      "\u001b[0;31m---------------------------------------------------------------------------\u001b[0m",
      "\u001b[0;31mNameError\u001b[0m                                 Traceback (most recent call last)",
      "Cell \u001b[0;32mIn[1], line 1\u001b[0m\n\u001b[0;32m----> 1\u001b[0m \u001b[38;5;28;01mclass\u001b[39;00m \u001b[38;5;21;01mMetaDataset\u001b[39;00m(\u001b[43mDataset\u001b[49m):\n\u001b[1;32m      2\u001b[0m     \u001b[38;5;28;01mdef\u001b[39;00m \u001b[38;5;21m__init__\u001b[39m(\u001b[38;5;28mself\u001b[39m, data_dir):\n\u001b[1;32m      3\u001b[0m         \u001b[38;5;28mself\u001b[39m\u001b[38;5;241m.\u001b[39mdata \u001b[38;5;241m=\u001b[39m []\n",
      "\u001b[0;31mNameError\u001b[0m: name 'Dataset' is not defined"
     ]
    }
   ],
   "source": [
    "class MetaDataset(Dataset):\n",
    "    def __init__(self, data_dir):\n",
    "        self.data = []\n",
    "        self.labels = []\n",
    "        self.names = []\n",
    "        device = torch.device(\"cuda\" if torch.cuda.is_available() else \"cpu\")\n",
    "\n",
    "        for f in os.listdir(data_dir):\n",
    "            if 'diff.pt' not in f:\n",
    "                continue\n",
    "\n",
    "            self.labels.append(torch.load(os.path.join(data_dir, f), weights_only=True).to(device))\n",
    "            self.data.append(torch.load(os.path.join(data_dir, f[:-7] + 'img.pt'), weights_only=True).to(device))\n",
    "            self.names.append(f[:-8])\n",
    "\n",
    "        self.n_per_set = len(self.data[0])\n",
    "\n",
    "    def __getitem__(self, idx):\n",
    "        ridx = idx % self.n_per_set\n",
    "        sidx = idx // self.n_per_set\n",
    "\n",
    "        return self.data[sidx][ridx], self.labels[sidx][ridx].float() / 1000.\n",
    "\n",
    "    def __len__(self):\n",
    "        return sum([len(d) for d in self.data])\n"
   ]
  },
  {
   "cell_type": "code",
   "execution_count": 33,
   "metadata": {},
   "outputs": [
    {
     "ename": "TypeError",
     "evalue": "SplitDataset.load_data() takes 2 positional arguments but 3 were given",
     "output_type": "error",
     "traceback": [
      "\u001b[0;31m---------------------------------------------------------------------------\u001b[0m",
      "\u001b[0;31mTypeError\u001b[0m                                 Traceback (most recent call last)",
      "Cell \u001b[0;32mIn[33], line 43\u001b[0m\n\u001b[1;32m     41\u001b[0m \u001b[38;5;66;03m# Example usage:\u001b[39;00m\n\u001b[1;32m     42\u001b[0m data_files \u001b[38;5;241m=\u001b[39m [os\u001b[38;5;241m.\u001b[39mpath\u001b[38;5;241m.\u001b[39mjoin(\u001b[38;5;124m\"\u001b[39m\u001b[38;5;124mkl_diffs/ld2_vs_ld4\u001b[39m\u001b[38;5;124m\"\u001b[39m, f) \u001b[38;5;28;01mfor\u001b[39;00m f \u001b[38;5;129;01min\u001b[39;00m os\u001b[38;5;241m.\u001b[39mlistdir(\u001b[38;5;124m\"\u001b[39m\u001b[38;5;124mkl_diffs/ld2_vs_ld4\u001b[39m\u001b[38;5;124m\"\u001b[39m) \u001b[38;5;28;01mif\u001b[39;00m \u001b[38;5;124m'\u001b[39m\u001b[38;5;124mdiff.pt\u001b[39m\u001b[38;5;124m'\u001b[39m \u001b[38;5;129;01min\u001b[39;00m f]\n\u001b[0;32m---> 43\u001b[0m split_dataset \u001b[38;5;241m=\u001b[39m \u001b[43mSplitDataset\u001b[49m\u001b[43m(\u001b[49m\u001b[43mdata_files\u001b[49m\u001b[43m)\u001b[49m\n\u001b[1;32m     44\u001b[0m train_data, train_labels \u001b[38;5;241m=\u001b[39m split_dataset\u001b[38;5;241m.\u001b[39mget_train_set()\n\u001b[1;32m     45\u001b[0m test_data, test_labels \u001b[38;5;241m=\u001b[39m split_dataset\u001b[38;5;241m.\u001b[39mget_test_set()\n",
      "Cell \u001b[0;32mIn[33], line 20\u001b[0m, in \u001b[0;36mSplitDataset.__init__\u001b[0;34m(self, data_files, test_ratio, seed)\u001b[0m\n\u001b[1;32m     17\u001b[0m train_files \u001b[38;5;241m=\u001b[39m data_files[:split_idx]\n\u001b[1;32m     18\u001b[0m test_files \u001b[38;5;241m=\u001b[39m data_files[split_idx:]\n\u001b[0;32m---> 20\u001b[0m \u001b[38;5;28mself\u001b[39m\u001b[38;5;241m.\u001b[39mtrain_data, \u001b[38;5;28mself\u001b[39m\u001b[38;5;241m.\u001b[39mtrain_labels \u001b[38;5;241m=\u001b[39m \u001b[38;5;28;43mself\u001b[39;49m\u001b[38;5;241;43m.\u001b[39;49m\u001b[43mload_data\u001b[49m\u001b[43m(\u001b[49m\u001b[43mtrain_files\u001b[49m\u001b[43m,\u001b[49m\u001b[43m \u001b[49m\u001b[43mdevice\u001b[49m\u001b[43m)\u001b[49m\n\u001b[1;32m     21\u001b[0m \u001b[38;5;28mself\u001b[39m\u001b[38;5;241m.\u001b[39mtest_data, \u001b[38;5;28mself\u001b[39m\u001b[38;5;241m.\u001b[39mtest_labels \u001b[38;5;241m=\u001b[39m \u001b[38;5;28mself\u001b[39m\u001b[38;5;241m.\u001b[39mload_data(test_files, device)\n",
      "\u001b[0;31mTypeError\u001b[0m: SplitDataset.load_data() takes 2 positional arguments but 3 were given"
     ]
    }
   ],
   "source": [
    "import random\n",
    "from torch.utils.data import Dataset\n",
    "import os \n",
    "import torch\n",
    "\n",
    "class SplitDataset(Dataset):\n",
    "    def __init__(self, data_files, test_ratio=0.2, seed=42):\n",
    "        self.data = []\n",
    "        self.labels = []\n",
    "        self.names = []\n",
    "        device = torch.device(\"cuda\" if torch.cuda.is_available() else \"cpu\")\n",
    "\n",
    "        random.seed(seed)\n",
    "        random.shuffle(data_files)\n",
    "        \n",
    "        split_idx = int(len(data_files) * (1 - test_ratio))\n",
    "        train_files = data_files[:split_idx]\n",
    "        test_files = data_files[split_idx:]\n",
    "\n",
    "        self.train_data, self.train_labels = self.load_data(train_files, device)\n",
    "        self.test_data, self.test_labels = self.load_data(test_files, device)\n",
    "\n",
    "    def load_data(files, device):\n",
    "        data = []\n",
    "        labels = []\n",
    "    \n",
    "        for l in files:\n",
    "            print(l)\n",
    "            lab = \"kl_diffs_all/\" +l + \"/diff.pt\"\n",
    "            da =  \"kl_diffs_all/\" + l + \"/img.pt\"\n",
    "            labels.append(torch.load(lab, weights_only=True, map_location=torch.device(\"cpu\")).to(device))\n",
    "            data.append(torch.load(da, weights_only=True, map_location=torch.device(\"cpu\")).to(device))\n",
    "        return data, labels\n",
    "\n",
    "    def get_train_set(self):\n",
    "        return self.train_data, self.train_labels\n",
    "\n",
    "    def get_test_set(self):\n",
    "        return self.test_data, self.test_labels\n",
    "\n",
    "# Example usage:\n",
    "data_files = [os.path.join(\"kl_diffs/ld2_vs_ld4\", f) for f in os.listdir(\"kl_diffs/ld2_vs_ld4\") if 'diff.pt' in f]\n",
    "split_dataset = SplitDataset(data_files)\n",
    "train_data, train_labels = split_dataset.get_train_set()\n",
    "test_data, test_labels = split_dataset.get_test_set()\n"
   ]
  },
  {
   "cell_type": "code",
   "execution_count": null,
   "metadata": {},
   "outputs": [],
   "source": [
    "import torch\n",
    "\n",
    "# Example tensors\n",
    "tensor1 = torch.randn(1000, 1536)\n",
    "tensor2 = torch.randn(1000, 1536)\n",
    "tensor3 = torch.randn(1000, 1536)\n",
    "\n",
    "# Combine tensors along the first dimension\n",
    "combined_tensor = torch.cat((tensor1, tensor2, tensor3), dim=0)\n",
    "print(combined_tensor.shape)  # Output: torch.Size([3000, 1536])"
   ]
  },
  {
   "cell_type": "code",
   "execution_count": 53,
   "metadata": {},
   "outputs": [
    {
     "name": "stdout",
     "output_type": "stream",
     "text": [
      "ld32_vs_ld16\n",
      "ld128_vs_ld16\n",
      "ld32_vs_ld128\n",
      "ld8_vs_ld32\n",
      "ld16_vs_ld32\n",
      "ld64_vs_ld8\n",
      "ld64_vs_ld32\n",
      "ld32_vs_ld4\n",
      "ld16_vs_ld4\n",
      "ld32_vs_ld2\n",
      "ld16_vs_ld2\n",
      "ld4_vs_ld8\n",
      "ld2_vs_ld16\n",
      "ld16_vs_ld128\n",
      "ld128_vs_ld8\n",
      "ld2_vs_ld32\n",
      "ld128_vs_ld32\n",
      "ld2_vs_ld8\n",
      "ld4_vs_ld64\n",
      "ld64_vs_ld16\n",
      "ld8_vs_ld16\n",
      "ld64_vs_ld4\n",
      "ld8_vs_ld64\n",
      "ld16_vs_ld64\n",
      "ld64_vs_ld128\n",
      "ld64_vs_ld2\n",
      "ld4_vs_ld16\n",
      "ld8_vs_ld4\n",
      "ld4_vs_ld128\n",
      "ld8_vs_ld2\n",
      "ld4_vs_ld2\n",
      "ld16_vs_ld8\n",
      "ld32_vs_ld8\n",
      "ld2_vs_ld64\n",
      "ld2_vs_ld128\n",
      "ld128_vs_ld4\n",
      "ld8_vs_ld128\n",
      "ld128_vs_ld2\n",
      "ld32_vs_ld64\n",
      "ld128_vs_ld64\n",
      "ld4_vs_ld32\n",
      "ld2_vs_ld4\n"
     ]
    }
   ],
   "source": [
    "def load_data(files, device):\n",
    "    data = []\n",
    "    labels = []\n",
    "  \n",
    "    for l in files:\n",
    "        print(l)\n",
    "        lab = \"kl_diffs_all/\" +l + \"/diff.pt\"\n",
    "        da =  \"kl_diffs_all/\" + l + \"/img.pt\"\n",
    "\n",
    "        a = torch.load(lab, weights_only=True, map_location=torch.device(\"cpu\")).to(device)\n",
    "        b = torch.load(da, weights_only=True, map_location=torch.device(\"cpu\")).to(device)\n",
    " \n",
    "        labels.append(a)\n",
    "        data.append(b)\n",
    "\n",
    "    return torch.cat(data, dim=0), torch.cat(labels, dim=0)\n",
    "\n",
    "images, labels = load_data(files = os.listdir(\"kl_diffs_all\"), device ='cpu')\n"
   ]
  },
  {
   "cell_type": "code",
   "execution_count": 56,
   "metadata": {},
   "outputs": [
    {
     "data": {
      "text/plain": [
       "(torch.Size([42000, 1536]), torch.Size([42000]))"
      ]
     },
     "execution_count": 56,
     "metadata": {},
     "output_type": "execute_result"
    }
   ],
   "source": [
    "images.shape, labels.shape"
   ]
  },
  {
   "cell_type": "code",
   "execution_count": 65,
   "metadata": {},
   "outputs": [],
   "source": [
    "def split(images, labels, split_ratio=0.8):\n",
    "    # Calculate the number of samples to select\n",
    "    num_samples = int(labels.size(0) * split_ratio)\n",
    "\n",
    "    # Randomly select samples for the first split\n",
    "    indices = torch.randperm(labels.size(0))\n",
    "    selected_images = images[indices[:num_samples]]\n",
    "    selected_labels = labels[indices[:num_samples]]\n",
    "\n",
    "    remaining_images = images[indices[num_samples:]]\n",
    "    remaining_labels = labels[indices[num_samples:]]\n",
    "\n",
    "    return (selected_images, selected_labels), (remaining_images, remaining_labels)\n",
    "\n",
    "train, test = split(images, labels)"
   ]
  }
 ],
 "metadata": {
  "kernelspec": {
   "display_name": "llama",
   "language": "python",
   "name": "python3"
  },
  "language_info": {
   "codemirror_mode": {
    "name": "ipython",
    "version": 3
   },
   "file_extension": ".py",
   "mimetype": "text/x-python",
   "name": "python",
   "nbconvert_exporter": "python",
   "pygments_lexer": "ipython3",
   "version": "3.12.7"
  }
 },
 "nbformat": 4,
 "nbformat_minor": 2
}
